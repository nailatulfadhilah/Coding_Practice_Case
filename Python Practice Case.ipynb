{
 "cells": [
  {
   "cell_type": "code",
   "execution_count": 1,
   "metadata": {},
   "outputs": [],
   "source": [
    "def introduction():\n",
    "    name = input('Input your name: ')\n",
    "    address = input('Input your addres: ')\n",
    "    dob = input('Input your date of birth: ')\n",
    "    return('My name is {}, I live in {}, I was born on {}'.format(name,address, dob))"
   ]
  },
  {
   "cell_type": "code",
   "execution_count": 2,
   "metadata": {},
   "outputs": [
    {
     "name": "stdout",
     "output_type": "stream",
     "text": [
      "Input your name: Naila\n",
      "Input your addres: Padang\n",
      "Input your date of birth: 6 December\n"
     ]
    },
    {
     "data": {
      "text/plain": [
       "'My name is Naila, I live in Padang, I was born on 6 December'"
      ]
     },
     "execution_count": 2,
     "metadata": {},
     "output_type": "execute_result"
    }
   ],
   "source": [
    "introduction()"
   ]
  }
 ],
 "metadata": {
  "kernelspec": {
   "display_name": "Python 3",
   "language": "python",
   "name": "python3"
  },
  "language_info": {
   "codemirror_mode": {
    "name": "ipython",
    "version": 3
   },
   "file_extension": ".py",
   "mimetype": "text/x-python",
   "name": "python",
   "nbconvert_exporter": "python",
   "pygments_lexer": "ipython3",
   "version": "3.8.3"
  }
 },
 "nbformat": 4,
 "nbformat_minor": 4
}
